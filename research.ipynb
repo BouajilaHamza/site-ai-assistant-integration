{
 "cells": [
  {
   "cell_type": "code",
   "execution_count": null,
   "id": "4ce636e0",
   "metadata": {
    "vscode": {
     "languageId": "plaintext"
    }
   },
   "outputs": [],
   "source": [
    "from backend.\n",
    "prediction = language_model.predict(text, k=1)  # Get the top prediction\n",
    "lang_code = prediction[0][0].replace(\"__label__\", \"\")\n",
    "return lang_code"
   ]
  },
  {
   "cell_type": "code",
   "execution_count": null,
   "id": "e0e02fa6",
   "metadata": {
    "vscode": {
     "languageId": "plaintext"
    }
   },
   "outputs": [],
   "source": [
    "sitemap_url = settings.TARGET_DOMAIN.rstrip(\"/\") + \"/sitemap.xml\"\n",
    "loader = SitemapLoader(web_path=sitemap_url,)\n",
    "docs = loader.aload()"
   ]
  }
 ],
 "metadata": {
  "language_info": {
   "name": "python"
  }
 },
 "nbformat": 4,
 "nbformat_minor": 5
}
